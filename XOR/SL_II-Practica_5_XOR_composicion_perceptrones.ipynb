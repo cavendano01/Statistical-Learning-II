{
  "nbformat": 4,
  "nbformat_minor": 0,
  "metadata": {
    "colab": {
      "name": "SLI_I-Practica_5-XOR_composicion_perceptrones.ipynb",
      "provenance": [],
      "authorship_tag": "ABX9TyP1GPW/roYn4TnMJ9agH+NQ",
      "include_colab_link": true
    },
    "kernelspec": {
      "name": "python3",
      "display_name": "Python 3"
    },
    "language_info": {
      "name": "python"
    }
  },
  "cells": [
    {
      "cell_type": "markdown",
      "metadata": {
        "id": "view-in-github",
        "colab_type": "text"
      },
      "source": [
        "<a href=\"https://colab.research.google.com/github/cavendano01/Statistical-Learning-II/blob/main/XOR/SL_II-Practica_5_XOR_composicion_perceptrones.ipynb\" target=\"_parent\"><img src=\"https://colab.research.google.com/assets/colab-badge.svg\" alt=\"Open In Colab\"/></a>"
      ]
    },
    {
      "cell_type": "markdown",
      "metadata": {
        "id": "MaeZ6iEyO-fS"
      },
      "source": [
        "Terminar el ejercicio empezado en clase: Xor a través de composición manual de perceptrones.\n",
        "Nota: vectorizar código (resolver a través de operaciones vectorizadas)"
      ]
    },
    {
      "cell_type": "code",
      "metadata": {
        "id": "vp4Q7tU_OyMv"
      },
      "source": [
        "import numpy as np"
      ],
      "execution_count": 1,
      "outputs": []
    },
    {
      "cell_type": "code",
      "metadata": {
        "colab": {
          "base_uri": "https://localhost:8080/"
        },
        "id": "I81P2HOsPHW1",
        "outputId": "c652c415-bf4c-4489-ac46-90a461a17427"
      },
      "source": [
        "def  operacion_or(x1,x2):\n",
        "  parametros = [1,1,0]\n",
        "  return  int(x1*parametros[0]  + x2*parametros[1] + parametros[2] > 0)\n",
        " \n",
        "testx1 = 1\n",
        "testx2 = 1\n",
        " \n",
        "operacion_or(testx1,testx2)"
      ],
      "execution_count": 2,
      "outputs": [
        {
          "output_type": "execute_result",
          "data": {
            "text/plain": [
              "1"
            ]
          },
          "metadata": {},
          "execution_count": 2
        }
      ]
    },
    {
      "cell_type": "code",
      "metadata": {
        "colab": {
          "base_uri": "https://localhost:8080/"
        },
        "id": "wyQ_u5dwPI7A",
        "outputId": "76d867d7-eac6-40a9-b003-15e49e8246cf"
      },
      "source": [
        "def  operacion_and(x1,x2):\n",
        "  parametros = [1,1,-1]\n",
        " \n",
        "  return  int(x1*parametros[0]  + x2*parametros[1] + parametros[2] > 0)\n",
        " \n",
        "testx1 = 0\n",
        "testx2 = 1\n",
        " \n",
        "operacion_and(testx1,testx2)"
      ],
      "execution_count": 3,
      "outputs": [
        {
          "output_type": "execute_result",
          "data": {
            "text/plain": [
              "0"
            ]
          },
          "metadata": {},
          "execution_count": 3
        }
      ]
    },
    {
      "cell_type": "code",
      "metadata": {
        "colab": {
          "base_uri": "https://localhost:8080/"
        },
        "id": "KCzhRTlFegMU",
        "outputId": "b23773ae-ade4-42ff-dbeb-951857bafd10"
      },
      "source": [
        "def operacion_not(x1):\n",
        "    parameters = [ -1 , 1]\n",
        "\n",
        "    result = int(x1*parameters[0] + parameters[1]) \n",
        "    \n",
        "    return result\n",
        "\n",
        "operacion_not(0)"
      ],
      "execution_count": 4,
      "outputs": [
        {
          "output_type": "execute_result",
          "data": {
            "text/plain": [
              "1"
            ]
          },
          "metadata": {},
          "execution_count": 4
        }
      ]
    },
    {
      "cell_type": "code",
      "metadata": {
        "colab": {
          "base_uri": "https://localhost:8080/"
        },
        "id": "aiuBkzGUPKlr",
        "outputId": "a4c1ab80-9973-4a94-dbbe-53e661164dab"
      },
      "source": [
        "def operacion_xor(x1,x2):\n",
        "  temp1 = operacion_and(x1,x2)\n",
        "  temp2 = operacion_or(x1,x2)\n",
        " \n",
        "  nand_temp = operacion_not(temp1)\n",
        " \n",
        "  temp_3 = operacion_and(nand_temp,temp2)\n",
        " \n",
        "  return temp_3\n",
        " \n",
        "testx1 = 1\n",
        "testx2 = 1\n",
        " \n",
        "operacion_xor(testx1,testx2)"
      ],
      "execution_count": 5,
      "outputs": [
        {
          "output_type": "execute_result",
          "data": {
            "text/plain": [
              "0"
            ]
          },
          "metadata": {},
          "execution_count": 5
        }
      ]
    },
    {
      "cell_type": "markdown",
      "metadata": {
        "id": "GXWITruGPNPA"
      },
      "source": [
        "# Operacion con codigo vectorizado y composicion de funciones"
      ]
    },
    {
      "cell_type": "code",
      "metadata": {
        "id": "0BhFHAE9PMay"
      },
      "source": [
        "def xor(x1,x2):\n",
        "\n",
        "    x1_temp = operacion_not(operacion_and(x1,x2))\n",
        "    x2_temp = operacion_or(x1,x2)\n",
        "    \n",
        "    result = operacion_and(x1_temp, x2_temp)\n",
        "    \n",
        "    return result"
      ],
      "execution_count": 6,
      "outputs": []
    },
    {
      "cell_type": "code",
      "metadata": {
        "colab": {
          "base_uri": "https://localhost:8080/"
        },
        "id": "Ler8vrGDPRhs",
        "outputId": "4af18b3b-c672-4241-ef43-e46c71a21b27"
      },
      "source": [
        "xor(1,1)"
      ],
      "execution_count": 7,
      "outputs": [
        {
          "output_type": "execute_result",
          "data": {
            "text/plain": [
              "0"
            ]
          },
          "metadata": {},
          "execution_count": 7
        }
      ]
    },
    {
      "cell_type": "code",
      "metadata": {
        "colab": {
          "base_uri": "https://localhost:8080/"
        },
        "id": "OTj1ZWWyPTc3",
        "outputId": "9a1c5a5b-e221-476d-8135-512526f258f1"
      },
      "source": [
        "xor(0,0)"
      ],
      "execution_count": 8,
      "outputs": [
        {
          "output_type": "execute_result",
          "data": {
            "text/plain": [
              "0"
            ]
          },
          "metadata": {},
          "execution_count": 8
        }
      ]
    },
    {
      "cell_type": "code",
      "metadata": {
        "colab": {
          "base_uri": "https://localhost:8080/"
        },
        "id": "-LNYOfGlPU1o",
        "outputId": "3e51c92f-d555-44c7-eafc-a0f8abdad7df"
      },
      "source": [
        "xor(1,0)"
      ],
      "execution_count": 9,
      "outputs": [
        {
          "output_type": "execute_result",
          "data": {
            "text/plain": [
              "1"
            ]
          },
          "metadata": {},
          "execution_count": 9
        }
      ]
    }
  ]
}