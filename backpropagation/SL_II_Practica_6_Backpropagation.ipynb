{
  "nbformat": 4,
  "nbformat_minor": 0,
  "metadata": {
    "colab": {
      "name": "SL_II-Practica_6-Backpropagation.ipynb",
      "provenance": [],
      "authorship_tag": "ABX9TyOObgWhHtWtr1EfpFQJisQq",
      "include_colab_link": true
    },
    "kernelspec": {
      "name": "python3",
      "display_name": "Python 3"
    },
    "language_info": {
      "name": "python"
    }
  },
  "cells": [
    {
      "cell_type": "markdown",
      "metadata": {
        "id": "view-in-github",
        "colab_type": "text"
      },
      "source": [
        "<a href=\"https://colab.research.google.com/github/cavendano01/Statistical-Learning-II/blob/main/backpropagation/SL_II_Practica_6_Backpropagation.ipynb\" target=\"_parent\"><img src=\"https://colab.research.google.com/assets/colab-badge.svg\" alt=\"Open In Colab\"/></a>"
      ]
    },
    {
      "cell_type": "code",
      "metadata": {
        "id": "AEuvNE_6oyMi"
      },
      "source": [
        "import numpy as np\n",
        "from matplotlib.colors import ListedColormap\n",
        "import matplotlib.pyplot as plt\n",
        "\n",
        "# The following code is used for hiding the warnings and make this notebook clearer.\n",
        "import warnings\n",
        "warnings.filterwarnings('ignore')"
      ],
      "execution_count": 1,
      "outputs": []
    },
    {
      "cell_type": "markdown",
      "metadata": {
        "id": "qNg3QSOpqY4y"
      },
      "source": [
        "## Usar activación ReLu en las capas intermedias"
      ]
    },
    {
      "cell_type": "code",
      "metadata": {
        "id": "i_z2qxg-oz87"
      },
      "source": [
        "def relu(x):\n",
        "  if x.all() >= 0.0:\n",
        "    return x\n",
        "  else:\n",
        "    return 0.0\n",
        "\n",
        "def relu_prime(x): #Relu derivative\n",
        "  return np.where(x >= 0, 1.0, 0.0)"
      ],
      "execution_count": 2,
      "outputs": []
    },
    {
      "cell_type": "code",
      "metadata": {
        "id": "zH1Rjgveo7Q9"
      },
      "source": [
        "class NeuralNetwork:\n",
        "\n",
        "    def __init__(self, net_arch):\n",
        "        np.random.seed(0)\n",
        "        \n",
        "        self.activity = relu\n",
        "        self.activity_derivative = relu_prime\n",
        "        self.layers = len(net_arch)\n",
        "        self.steps_per_epoch = 1\n",
        "        self.arch = net_arch\n",
        "        self.weights = []\n",
        "\n",
        "        for layer in range(self.layers - 1):\n",
        "            w = 2*np.random.rand(net_arch[layer] + 1, net_arch[layer+1]) - 1\n",
        "            self.weights.append(w)\n",
        "    \n",
        "    def _forward_prop(self, x):\n",
        "        y = x\n",
        "\n",
        "        for i in range(len(self.weights)-1):\n",
        "            activation = np.dot(y[i], self.weights[i])\n",
        "            activity = self.activity(activation)\n",
        "\n",
        "            \n",
        "            activity = np.concatenate((np.ones(1), np.array(activity)))\n",
        "            y.append(activity)\n",
        "\n",
        "        \n",
        "        activation = np.dot(y[-1], self.weights[-1])\n",
        "        activity = self.activity(activation)\n",
        "        y.append(activity)\n",
        "        \n",
        "        return y\n",
        "    \n",
        "    def _back_prop(self, y, target, learning_rate):\n",
        "        error = target - y[-1]\n",
        "        delta_vec = [error * self.activity_derivative(y[-1])]\n",
        "\n",
        "        for i in range(self.layers-2, 0, -1):\n",
        "            error = delta_vec[-1].dot(self.weights[i][1:].T)\n",
        "            error = error*self.activity_derivative(y[i][1:])\n",
        "            delta_vec.append(error)\n",
        "\n",
        "        delta_vec.reverse()\n",
        "        \n",
        "        for i in range(len(self.weights)):\n",
        "            layer = y[i].reshape(1, self.arch[i]+1)\n",
        "            delta = delta_vec[i].reshape(1, self.arch[i+1])\n",
        "            self.weights[i] += learning_rate*layer.T.dot(delta)\n",
        "    \n",
        "    def fit(self, data, labels, learning_rate=0.1, epochs=100):\n",
        "        \n",
        "        ones = np.ones((1, data.shape[0]))\n",
        "        Z = np.concatenate((ones.T, data), axis=1)\n",
        "        \n",
        "        for k in range(epochs):\n",
        "            if (k+1) % 10000 == 0:\n",
        "                print('epochs: {}'.format(k+1))\n",
        "        \n",
        "            sample = np.random.randint(X.shape[0])\n",
        "\n",
        "            x = [Z[sample]]\n",
        "            y = self._forward_prop(x)\n",
        "\n",
        "            target = labels[sample]\n",
        "            self._back_prop(y, target, learning_rate)\n",
        "    \n",
        "\n",
        "    def predict_single_data(self, x):\n",
        "        val = np.concatenate((np.ones(1).T, np.array(x)))\n",
        "        for i in range(0, len(self.weights)):\n",
        "            val = self.activity(np.dot(val, self.weights[i]))\n",
        "            val = np.concatenate((np.ones(1).T, np.array(val)))\n",
        "        return val[1]\n",
        "    \n",
        "    def predict(self, X):\n",
        "        Y = np.array([]).reshape(0, self.arch[-1])\n",
        "        for x in X:\n",
        "            y = np.array([[self.predict_single_data(x)]])\n",
        "            Y = np.vstack((Y,y))\n",
        "        return Y"
      ],
      "execution_count": 4,
      "outputs": []
    },
    {
      "cell_type": "code",
      "metadata": {
        "id": "TTpBz9QVubNq"
      },
      "source": [
        "def plot_decision_regions(X, y, classifier, test_idx=None, resolution=0.02):\n",
        "\n",
        "    # setup marker generator and color map\n",
        "    markers = ('s', 'x', 'o', '^', 'v')\n",
        "    colors = ('red', 'blue', 'lightgreen', 'gray', 'cyan')\n",
        "    cmap = ListedColormap(colors[:len(np.unique(y))])\n",
        "\n",
        "    # plot the decision surface\n",
        "    x1_min, x1_max = X[:, 0].min() - 1, X[:, 0].max() + 1\n",
        "    x2_min, x2_max = X[:, 1].min() - 1, X[:, 1].max() + 1\n",
        "    xx1, xx2 = np.meshgrid(np.arange(x1_min, x1_max, resolution),\n",
        "                           np.arange(x2_min, x2_max, resolution))\n",
        "    Z = classifier.predict(np.array([xx1.ravel(), xx2.ravel()]).T)\n",
        "    Z = Z.reshape(xx1.shape)\n",
        "    plt.contourf(xx1, xx2, Z, alpha=0.4, cmap=cmap)\n",
        "    plt.xlim(xx1.min(), xx1.max())\n",
        "    plt.ylim(xx2.min(), xx2.max())\n",
        "\n",
        "    # plot class samples\n",
        "    for idx, cl in enumerate(np.unique(y)):\n",
        "        plt.scatter(x=X[y == cl, 0], y=X[y == cl, 1],\n",
        "                    alpha=0.8, c=cmap(idx),\n",
        "                    marker=markers[idx], label=cl)\n",
        "\n",
        "    # highlight test samples\n",
        "    if test_idx:\n",
        "        # plot all samples\n",
        "        X_test, y_test = X[test_idx, :], y[test_idx]\n",
        "\n",
        "        plt.scatter(X_test[:, 0],\n",
        "                    X_test[:, 1],\n",
        "                    c='',\n",
        "                    alpha=1.0,\n",
        "                    linewidths=1,\n",
        "                    marker='o',\n",
        "                    s=55, label='test set')"
      ],
      "execution_count": 22,
      "outputs": []
    },
    {
      "cell_type": "code",
      "metadata": {
        "colab": {
          "base_uri": "https://localhost:8080/",
          "height": 352
        },
        "id": "l_ans2Xttl2O",
        "outputId": "a66a1ce6-6f27-474a-a627-8609174a70dc"
      },
      "source": [
        "np.random.seed(0)\n",
        "nn = NeuralNetwork([2,2,1])\n",
        "nn.fit(X, y, epochs=100)\n",
        "plot_decision_regions(X, y, nn)\n",
        "plt.xlabel('x-axis')\n",
        "plt.ylabel('y-axis')\n",
        "plt.legend(loc='upper left')\n",
        "plt.tight_layout()\n",
        "plt.show()"
      ],
      "execution_count": 29,
      "outputs": [
        {
          "output_type": "stream",
          "name": "stderr",
          "text": [
            "*c* argument looks like a single numeric RGB or RGBA sequence, which should be avoided as value-mapping will have precedence in case its length matches with *x* & *y*.  Please use the *color* keyword-argument or provide a 2-D array with a single row if you intend to specify the same RGB or RGBA value for all points.\n",
            "*c* argument looks like a single numeric RGB or RGBA sequence, which should be avoided as value-mapping will have precedence in case its length matches with *x* & *y*.  Please use the *color* keyword-argument or provide a 2-D array with a single row if you intend to specify the same RGB or RGBA value for all points.\n"
          ]
        },
        {
          "output_type": "display_data",
          "data": {
            "image/png": "[encoded data removed]",
            "text/plain": [
              "<Figure size 432x288 with 1 Axes>"
            ]
          },
          "metadata": {
            "needs_background": "light"
          }
        }
      ]
    },
    {
      "cell_type": "code",
      "metadata": {
        "colab": {
          "base_uri": "https://localhost:8080/",
          "height": 352
        },
        "id": "Q_V_sX5-wWVr",
        "outputId": "4668780d-4cef-4d87-8cc4-645ff83e7214"
      },
      "source": [
        "np.random.seed(3)\n",
        "nn = NeuralNetwork([2,2,1])\n",
        "nn.fit(X, y, epochs=20)\n",
        "plot_decision_regions(X, y, nn)\n",
        "plt.xlabel('x-axis')\n",
        "plt.ylabel('y-axis')\n",
        "plt.legend(loc='upper left')\n",
        "plt.tight_layout()\n",
        "plt.show()"
      ],
      "execution_count": 30,
      "outputs": [
        {
          "output_type": "stream",
          "name": "stderr",
          "text": [
            "*c* argument looks like a single numeric RGB or RGBA sequence, which should be avoided as value-mapping will have precedence in case its length matches with *x* & *y*.  Please use the *color* keyword-argument or provide a 2-D array with a single row if you intend to specify the same RGB or RGBA value for all points.\n",
            "*c* argument looks like a single numeric RGB or RGBA sequence, which should be avoided as value-mapping will have precedence in case its length matches with *x* & *y*.  Please use the *color* keyword-argument or provide a 2-D array with a single row if you intend to specify the same RGB or RGBA value for all points.\n"
          ]
        },
        {
          "output_type": "display_data",
          "data": {
            "image/png": "[encoded data removed]",
            "text/plain": [
              "<Figure size 432x288 with 1 Axes>"
            ]
          },
          "metadata": {
            "needs_background": "light"
          }
        }
      ]
    },
    {
      "cell_type": "code",
      "metadata": {
        "colab": {
          "base_uri": "https://localhost:8080/",
          "height": 352
        },
        "id": "1wi4SMrbwapj",
        "outputId": "e6224a87-d362-4972-c086-768822b03ca1"
      },
      "source": [
        "np.random.seed(4)\n",
        "nn = NeuralNetwork([2,2,1])\n",
        "nn.fit(X, y, epochs=1000)\n",
        "plot_decision_regions(X, y, nn)\n",
        "plt.xlabel('x-axis')\n",
        "plt.ylabel('y-axis')\n",
        "plt.legend(loc='upper left')\n",
        "plt.tight_layout()\n",
        "plt.show()"
      ],
      "execution_count": 31,
      "outputs": [
        {
          "output_type": "stream",
          "name": "stderr",
          "text": [
            "*c* argument looks like a single numeric RGB or RGBA sequence, which should be avoided as value-mapping will have precedence in case its length matches with *x* & *y*.  Please use the *color* keyword-argument or provide a 2-D array with a single row if you intend to specify the same RGB or RGBA value for all points.\n",
            "*c* argument looks like a single numeric RGB or RGBA sequence, which should be avoided as value-mapping will have precedence in case its length matches with *x* & *y*.  Please use the *color* keyword-argument or provide a 2-D array with a single row if you intend to specify the same RGB or RGBA value for all points.\n"
          ]
        },
        {
          "output_type": "display_data",
          "data": {
            "image/png": "[encoded data removed]",
            "text/plain": [
              "<Figure size 432x288 with 1 Axes>"
            ]
          },
          "metadata": {
            "needs_background": "light"
          }
        }
      ]
    },
    {
      "cell_type": "code",
      "metadata": {
        "colab": {
          "base_uri": "https://localhost:8080/",
          "height": 352
        },
        "id": "xq7YzdSDwfiP",
        "outputId": "a0879ea6-acf5-412c-81d6-460581821dff"
      },
      "source": [
        "np.random.seed(40)\n",
        "nn = NeuralNetwork([2,2,1])\n",
        "nn.fit(X, y, epochs=100)\n",
        "plot_decision_regions(X, y, nn)\n",
        "plt.xlabel('x-axis')\n",
        "plt.ylabel('y-axis')\n",
        "plt.legend(loc='upper left')\n",
        "plt.tight_layout()\n",
        "plt.show()"
      ],
      "execution_count": 32,
      "outputs": [
        {
          "output_type": "stream",
          "name": "stderr",
          "text": [
            "*c* argument looks like a single numeric RGB or RGBA sequence, which should be avoided as value-mapping will have precedence in case its length matches with *x* & *y*.  Please use the *color* keyword-argument or provide a 2-D array with a single row if you intend to specify the same RGB or RGBA value for all points.\n",
            "*c* argument looks like a single numeric RGB or RGBA sequence, which should be avoided as value-mapping will have precedence in case its length matches with *x* & *y*.  Please use the *color* keyword-argument or provide a 2-D array with a single row if you intend to specify the same RGB or RGBA value for all points.\n"
          ]
        },
        {
          "output_type": "display_data",
          "data": {
            "image/png": "[encoded data removed]",
            "text/plain": [
              "<Figure size 432x288 with 1 Axes>"
            ]
          },
          "metadata": {
            "needs_background": "light"
          }
        }
      ]
    }
  ]
}