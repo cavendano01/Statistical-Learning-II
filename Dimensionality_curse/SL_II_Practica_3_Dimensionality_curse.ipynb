{
  "nbformat": 4,
  "nbformat_minor": 0,
  "metadata": {
    "colab": {
      "name": "SL_II-Practica_3-Dimensionality_curse.ipynb",
      "provenance": [],
      "authorship_tag": "ABX9TyPzdffbYDlBvR4FlyoltvNN",
      "include_colab_link": true
    },
    "kernelspec": {
      "name": "python3",
      "display_name": "Python 3"
    },
    "language_info": {
      "name": "python"
    }
  },
  "cells": [
    {
      "cell_type": "markdown",
      "metadata": {
        "id": "view-in-github",
        "colab_type": "text"
      },
      "source": [
        "<a href=\"https://colab.research.google.com/github/cavendano01/Statistical-Learning-II/blob/main/Dimensionality_curse/SL_II_Practica_3_Dimensionality_curse.ipynb\" target=\"_parent\"><img src=\"https://colab.research.google.com/assets/colab-badge.svg\" alt=\"Open In Colab\"/></a>"
      ]
    },
    {
      "cell_type": "code",
      "metadata": {
        "id": "TFOUoCwGLu3J"
      },
      "source": [
        "import numpy as np\n",
        "import pandas as pd\n",
        "import matplotlib.pyplot as plt\n",
        "from sklearn import metrics\n",
        "from sklearn.preprocessing import PolynomialFeatures"
      ],
      "execution_count": 1,
      "outputs": []
    },
    {
      "cell_type": "markdown",
      "metadata": {
        "id": "ZzrtFsYFwsh1"
      },
      "source": [
        ""
      ]
    },
    {
      "cell_type": "markdown",
      "metadata": {
        "id": "gp51uVVwM_Tl"
      },
      "source": [
        "Ver descripción al final de presentación: Clase_05_intro_DL\n",
        "* Maldición de dimensionalidad:\n",
        "  * Usando el dataset de precios de casas\n",
        "  * Usar PolynomialFeatures de sklearn para calcular features polinómicas y analizar la dimensionalidad resultante al usar polinomios de grado 1(no transformación),2,3 para 1,2,3 variables de entrada(cualquiera)\n",
        "  * No se necesita entrenar ningún modelo, solo analizar el comportamiento del número de dimensiones(por ejemplo usando plots comparativos)\n",
        "* (Opcional)Repaso mate de licenciatura:\n",
        "  * Funciones compuestas. \n",
        "  * Derivación de funciones compuestas(regla de la cadena) \n",
        "  * Funciones multivariable-escalares(muchas variables de entrada, un escalar de salida) \n",
        "  * Funciones multivariable-vectoriales(muchas variables de entrada, un vector de salida)\n"
      ]
    },
    {
      "cell_type": "code",
      "metadata": {
        "colab": {
          "base_uri": "https://localhost:8080/"
        },
        "id": "ThBZ3953sSTF",
        "outputId": "5e8d0dd7-3b20-4fc5-8919-cd209e42d502"
      },
      "source": [
        "#Data Loading\n",
        "from google.colab import drive\n",
        "drive.mount('/content/drive/')"
      ],
      "execution_count": 2,
      "outputs": [
        {
          "output_type": "stream",
          "name": "stdout",
          "text": [
            "Drive already mounted at /content/drive/; to attempt to forcibly remount, call drive.mount(\"/content/drive/\", force_remount=True).\n"
          ]
        }
      ]
    },
    {
      "cell_type": "code",
      "metadata": {
        "id": "h1CfULGgsZvn"
      },
      "source": [
        "#Loading np array to access data\n",
        "data = np.load('/content/drive/MyDrive/Statistical Learning O/Practica 1 - TensorFlow y TensorBoard/proyecto_training_data.npy')"
      ],
      "execution_count": 3,
      "outputs": []
    },
    {
      "cell_type": "code",
      "metadata": {
        "id": "wcW2Zd1RMPX0"
      },
      "source": [
        "df = pd.DataFrame(data, columns = ['SalePrice','OverallQual','1stFlrSF', 'TotRmsAbvGrd', 'YearBuilt', 'LotFrontage'])"
      ],
      "execution_count": 4,
      "outputs": []
    },
    {
      "cell_type": "code",
      "metadata": {
        "colab": {
          "base_uri": "https://localhost:8080/",
          "height": 203
        },
        "id": "sMf56LY1MQ7H",
        "outputId": "4222626d-7293-497e-a2c0-a8170fb7b143"
      },
      "source": [
        "df.head()"
      ],
      "execution_count": 5,
      "outputs": [
        {
          "output_type": "execute_result",
          "data": {
            "text/html": [
              "<div>\n",
              "<style scoped>\n",
              "    .dataframe tbody tr th:only-of-type {\n",
              "        vertical-align: middle;\n",
              "    }\n",
              "\n",
              "    .dataframe tbody tr th {\n",
              "        vertical-align: top;\n",
              "    }\n",
              "\n",
              "    .dataframe thead th {\n",
              "        text-align: right;\n",
              "    }\n",
              "</style>\n",
              "<table border=\"1\" class=\"dataframe\">\n",
              "  <thead>\n",
              "    <tr style=\"text-align: right;\">\n",
              "      <th></th>\n",
              "      <th>SalePrice</th>\n",
              "      <th>OverallQual</th>\n",
              "      <th>1stFlrSF</th>\n",
              "      <th>TotRmsAbvGrd</th>\n",
              "      <th>YearBuilt</th>\n",
              "      <th>LotFrontage</th>\n",
              "    </tr>\n",
              "  </thead>\n",
              "  <tbody>\n",
              "    <tr>\n",
              "      <th>0</th>\n",
              "      <td>208500.0</td>\n",
              "      <td>7.0</td>\n",
              "      <td>856.0</td>\n",
              "      <td>8.0</td>\n",
              "      <td>2003.0</td>\n",
              "      <td>65.0</td>\n",
              "    </tr>\n",
              "    <tr>\n",
              "      <th>1</th>\n",
              "      <td>181500.0</td>\n",
              "      <td>6.0</td>\n",
              "      <td>1262.0</td>\n",
              "      <td>6.0</td>\n",
              "      <td>1976.0</td>\n",
              "      <td>80.0</td>\n",
              "    </tr>\n",
              "    <tr>\n",
              "      <th>2</th>\n",
              "      <td>223500.0</td>\n",
              "      <td>7.0</td>\n",
              "      <td>920.0</td>\n",
              "      <td>6.0</td>\n",
              "      <td>2001.0</td>\n",
              "      <td>68.0</td>\n",
              "    </tr>\n",
              "    <tr>\n",
              "      <th>3</th>\n",
              "      <td>140000.0</td>\n",
              "      <td>7.0</td>\n",
              "      <td>961.0</td>\n",
              "      <td>7.0</td>\n",
              "      <td>1915.0</td>\n",
              "      <td>60.0</td>\n",
              "    </tr>\n",
              "    <tr>\n",
              "      <th>4</th>\n",
              "      <td>250000.0</td>\n",
              "      <td>8.0</td>\n",
              "      <td>1145.0</td>\n",
              "      <td>9.0</td>\n",
              "      <td>2000.0</td>\n",
              "      <td>84.0</td>\n",
              "    </tr>\n",
              "  </tbody>\n",
              "</table>\n",
              "</div>"
            ],
            "text/plain": [
              "   SalePrice  OverallQual  1stFlrSF  TotRmsAbvGrd  YearBuilt  LotFrontage\n",
              "0   208500.0          7.0     856.0           8.0     2003.0         65.0\n",
              "1   181500.0          6.0    1262.0           6.0     1976.0         80.0\n",
              "2   223500.0          7.0     920.0           6.0     2001.0         68.0\n",
              "3   140000.0          7.0     961.0           7.0     1915.0         60.0\n",
              "4   250000.0          8.0    1145.0           9.0     2000.0         84.0"
            ]
          },
          "metadata": {},
          "execution_count": 5
        }
      ]
    },
    {
      "cell_type": "markdown",
      "metadata": {
        "id": "o9MJNJuqMXDH"
      },
      "source": [
        "# Polinomial Features"
      ]
    },
    {
      "cell_type": "code",
      "metadata": {
        "id": "VYRd1KYxw-uw"
      },
      "source": [
        "oneDimension = df.filter([\"OverallQual\", \"1stFlrSF\"])"
      ],
      "execution_count": 6,
      "outputs": []
    },
    {
      "cell_type": "code",
      "metadata": {
        "colab": {
          "base_uri": "https://localhost:8080/"
        },
        "id": "ksXHeHbzxEBU",
        "outputId": "1f1bf7c7-9c46-4970-82c4-d7bc5e8ea270"
      },
      "source": [
        "poly = PolynomialFeatures(2)\n",
        "twoDimension = poly.fit_transform(oneDimension)\n",
        "twoDimension.shape"
      ],
      "execution_count": 7,
      "outputs": [
        {
          "output_type": "execute_result",
          "data": {
            "text/plain": [
              "(1460, 6)"
            ]
          },
          "metadata": {},
          "execution_count": 7
        }
      ]
    },
    {
      "cell_type": "code",
      "metadata": {
        "id": "xNbvRceWxaYZ"
      },
      "source": [
        "tempData = df.filter([\"OverallQual\", \"1stFlrSF\", \"TotRmsAbvGrd\"])\n"
      ],
      "execution_count": 8,
      "outputs": []
    },
    {
      "cell_type": "code",
      "metadata": {
        "colab": {
          "base_uri": "https://localhost:8080/"
        },
        "id": "9p2R23mMxhTF",
        "outputId": "e617ad31-19d8-4cbb-fae7-c41092383085"
      },
      "source": [
        "poly = PolynomialFeatures(3)\n",
        "threeDimension = poly.fit_transform(tempData)\n",
        "threeDimension.shape"
      ],
      "execution_count": 9,
      "outputs": [
        {
          "output_type": "execute_result",
          "data": {
            "text/plain": [
              "(1460, 20)"
            ]
          },
          "metadata": {},
          "execution_count": 9
        }
      ]
    },
    {
      "cell_type": "code",
      "metadata": {
        "colab": {
          "base_uri": "https://localhost:8080/"
        },
        "id": "nf75ZgRwyF1F",
        "outputId": "246668cb-dd30-4805-f112-c660f5b4c0fc"
      },
      "source": [
        "print(oneDimension.shape[1])\n",
        "print(twoDimension.shape[1])\n",
        "print(threeDimension.shape[1])"
      ],
      "execution_count": 10,
      "outputs": [
        {
          "output_type": "stream",
          "name": "stdout",
          "text": [
            "2\n",
            "6\n",
            "20\n"
          ]
        }
      ]
    },
    {
      "cell_type": "code",
      "metadata": {
        "colab": {
          "base_uri": "https://localhost:8080/"
        },
        "id": "4qM1b5J9zf8H",
        "outputId": "0666a830-182a-457a-8d93-936536c31946"
      },
      "source": [
        "dim1 = oneDimension.shape[1]\n",
        "dim2 = twoDimension.shape[1]\n",
        "dim3 = threeDimension.shape[1]\n",
        "\n",
        "dimCompare = np.array([dim1,dim2,dim3])\n",
        "dimCompare"
      ],
      "execution_count": 11,
      "outputs": [
        {
          "output_type": "execute_result",
          "data": {
            "text/plain": [
              "array([ 2,  6, 20])"
            ]
          },
          "metadata": {},
          "execution_count": 11
        }
      ]
    },
    {
      "cell_type": "code",
      "metadata": {
        "colab": {
          "base_uri": "https://localhost:8080/",
          "height": 308
        },
        "id": "HR8oik-qz-qD",
        "outputId": "e2ce17c8-54de-415a-ed5d-4d4360a20cb7"
      },
      "source": [
        "names = [\"One\", \"Two\", \"Three\"]\n",
        "plt.bar(names, dimCompare)\n",
        "plt.suptitle('Polinomial Features Compare')\n",
        "plt.xlabel('Grado del Polinómio')\n",
        "plt.ylabel('# Dimensiones')\n",
        "plt.show()"
      ],
      "execution_count": 13,
      "outputs": [
        {
          "output_type": "display_data",
          "data": {
            "image/png": "[encoded data removed]",
            "text/plain": [
              "<Figure size 432x288 with 1 Axes>"
            ]
          },
          "metadata": {
            "needs_background": "light"
          }
        }
      ]
    },
    {
      "cell_type": "markdown",
      "metadata": {
        "id": "TMfEZnHqMtYZ"
      },
      "source": [
        "# Conclusiones"
      ]
    },
    {
      "cell_type": "markdown",
      "metadata": {
        "id": "WvpikEA_0RSl"
      },
      "source": [
        "El Crecimiento de las dimensiones al utilizar polinomial features crece de manera exponencial. Solamente utilizando tres dimensiones se generan 19 diferentes columnas. "
      ]
    }
  ]
}