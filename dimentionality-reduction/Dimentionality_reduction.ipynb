{
  "nbformat": 4,
  "nbformat_minor": 0,
  "metadata": {
    "colab": {
      "name": "Dimentionality-reduction.ipynb",
      "provenance": [],
      "authorship_tag": "ABX9TyMCkpFwSn4VHJ8JuB84ryFs",
      "include_colab_link": true
    },
    "kernelspec": {
      "name": "python3",
      "display_name": "Python 3"
    },
    "language_info": {
      "name": "python"
    }
  },
  "cells": [
    {
      "cell_type": "markdown",
      "metadata": {
        "id": "view-in-github",
        "colab_type": "text"
      },
      "source": [
        "<a href=\"https://colab.research.google.com/github/cavendano01/Statistical-Learning-II/blob/main/dimentionality-reduction/Dimentionality_reduction.ipynb\" target=\"_parent\"><img src=\"https://colab.research.google.com/assets/colab-badge.svg\" alt=\"Open In Colab\"/></a>"
      ]
    },
    {
      "cell_type": "code",
      "metadata": {
        "id": "7ePgN9Se-iHZ"
      },
      "source": [
        "import numpy as np\n",
        "import pandas as pd\n",
        "import matplotlib.pyplot as plt\n",
        "from sklearn.preprocessing import PolynomialFeatures"
      ],
      "execution_count": null,
      "outputs": []
    },
    {
      "cell_type": "code",
      "metadata": {
        "colab": {
          "base_uri": "https://localhost:8080/"
        },
        "id": "DCNpacZPAzjv",
        "outputId": "b3691d46-e399-4087-e3fe-9685b3f899d8"
      },
      "source": [
        "#Data Loading\n",
        "from google.colab import drive\n",
        "drive.mount('/content/drive/')"
      ],
      "execution_count": 48,
      "outputs": [
        {
          "output_type": "stream",
          "text": [
            "Drive already mounted at /content/drive/; to attempt to forcibly remount, call drive.mount(\"/content/drive/\", force_remount=True).\n"
          ],
          "name": "stdout"
        }
      ]
    },
    {
      "cell_type": "code",
      "metadata": {
        "id": "PDPFRXYGA16I"
      },
      "source": [
        "#Loading np array to access data\n",
        "data = np.load('/content/drive/MyDrive/Statistical-Learning-II/practica-3/proyecto_training_data.npy')\n",
        "#Using pandas dataframe structure to compare\n",
        "df = pd.DataFrame(data,columns=['SalePrice','OverallQual','firstFlrSF','TotRmsAbvGrd','YearBuilt','LotFrontage'])\n",
        "columns=['SalePrice','OverallQual','firstFlrSF','TotRmsAbvGrd','YearBuilt','LotFrontage']"
      ],
      "execution_count": 56,
      "outputs": []
    },
    {
      "cell_type": "code",
      "metadata": {
        "colab": {
          "base_uri": "https://localhost:8080/"
        },
        "id": "BvCq0k5DSYvP",
        "outputId": "2574ac73-878e-48b2-b8c1-d0d6a7e7d540"
      },
      "source": [
        "df.isna().sum()\n"
      ],
      "execution_count": 57,
      "outputs": [
        {
          "output_type": "execute_result",
          "data": {
            "text/plain": [
              "SalePrice         0\n",
              "OverallQual       0\n",
              "firstFlrSF        0\n",
              "TotRmsAbvGrd      0\n",
              "YearBuilt         0\n",
              "LotFrontage     259\n",
              "dtype: int64"
            ]
          },
          "metadata": {
            "tags": []
          },
          "execution_count": 57
        }
      ]
    },
    {
      "cell_type": "code",
      "metadata": {
        "colab": {
          "base_uri": "https://localhost:8080/"
        },
        "id": "NxB2rzSGXso3",
        "outputId": "5745536a-21e1-44b2-c3e3-81ec78902334"
      },
      "source": [
        "df['LotFrontage'].fillna((df['LotFrontage'].mean()), inplace=True)\n",
        "df.isna().sum()"
      ],
      "execution_count": 58,
      "outputs": [
        {
          "output_type": "execute_result",
          "data": {
            "text/plain": [
              "SalePrice       0\n",
              "OverallQual     0\n",
              "firstFlrSF      0\n",
              "TotRmsAbvGrd    0\n",
              "YearBuilt       0\n",
              "LotFrontage     0\n",
              "dtype: int64"
            ]
          },
          "metadata": {
            "tags": []
          },
          "execution_count": 58
        }
      ]
    },
    {
      "cell_type": "code",
      "metadata": {
        "id": "V7Meeh4jB5YA"
      },
      "source": [
        "X = df.iloc[:, [1,2,3,4,5]]"
      ],
      "execution_count": 59,
      "outputs": []
    },
    {
      "cell_type": "code",
      "metadata": {
        "colab": {
          "base_uri": "https://localhost:8080/",
          "height": 298
        },
        "id": "l-Bk2IbKTTHa",
        "outputId": "25c3a741-4393-4ad3-a3ee-feeed4ba8cb1"
      },
      "source": [
        "# histograms of the variables\n",
        "print(X.shape)\n",
        "X.hist()\n",
        "plt.show()"
      ],
      "execution_count": 60,
      "outputs": [
        {
          "output_type": "stream",
          "text": [
            "(1460, 5)\n"
          ],
          "name": "stdout"
        },
        {
          "output_type": "display_data",
          "data": {
            "image/png": "[encoded data removed]",
            "text/plain": [
              "<Figure size 432x288 with 6 Axes>"
            ]
          },
          "metadata": {
            "tags": [],
            "needs_background": "light"
          }
        }
      ]
    },
    {
      "cell_type": "code",
      "metadata": {
        "colab": {
          "base_uri": "https://localhost:8080/",
          "height": 222
        },
        "id": "0WYIOeewCMUk",
        "outputId": "c4fad9fd-db01-4a57-b68e-c420155b56d2"
      },
      "source": [
        "# retrieve just the numeric input values\n",
        "data = X.values[:, :-1]\n",
        "\n",
        "# perform a polynomial features transform of the dataset\n",
        "transform = PolynomialFeatures(degree=2)\n",
        "data = transform.fit_transform(data)\n",
        "\n",
        "# convert the array back to a dataframe\n",
        "dataset = pd.DataFrame(data)\n",
        "\n",
        "#Replace columns with feature name \n",
        "\n",
        "colName = transform.get_feature_names()\n",
        "print(dataset.shape)\n",
        "\n",
        "dataset = pd.DataFrame(data,columns=colName)\n",
        "dataset.head()"
      ],
      "execution_count": 73,
      "outputs": [
        {
          "output_type": "stream",
          "text": [
            "(1460, 15)\n"
          ],
          "name": "stdout"
        },
        {
          "output_type": "execute_result",
          "data": {
            "text/html": [
              "<div>\n",
              "<style scoped>\n",
              "    .dataframe tbody tr th:only-of-type {\n",
              "        vertical-align: middle;\n",
              "    }\n",
              "\n",
              "    .dataframe tbody tr th {\n",
              "        vertical-align: top;\n",
              "    }\n",
              "\n",
              "    .dataframe thead th {\n",
              "        text-align: right;\n",
              "    }\n",
              "</style>\n",
              "<table border=\"1\" class=\"dataframe\">\n",
              "  <thead>\n",
              "    <tr style=\"text-align: right;\">\n",
              "      <th></th>\n",
              "      <th>1</th>\n",
              "      <th>x0</th>\n",
              "      <th>x1</th>\n",
              "      <th>x2</th>\n",
              "      <th>x3</th>\n",
              "      <th>x0^2</th>\n",
              "      <th>x0 x1</th>\n",
              "      <th>x0 x2</th>\n",
              "      <th>x0 x3</th>\n",
              "      <th>x1^2</th>\n",
              "      <th>x1 x2</th>\n",
              "      <th>x1 x3</th>\n",
              "      <th>x2^2</th>\n",
              "      <th>x2 x3</th>\n",
              "      <th>x3^2</th>\n",
              "    </tr>\n",
              "  </thead>\n",
              "  <tbody>\n",
              "    <tr>\n",
              "      <th>0</th>\n",
              "      <td>1.0</td>\n",
              "      <td>7.0</td>\n",
              "      <td>856.0</td>\n",
              "      <td>8.0</td>\n",
              "      <td>2003.0</td>\n",
              "      <td>49.0</td>\n",
              "      <td>5992.0</td>\n",
              "      <td>56.0</td>\n",
              "      <td>14021.0</td>\n",
              "      <td>732736.0</td>\n",
              "      <td>6848.0</td>\n",
              "      <td>1714568.0</td>\n",
              "      <td>64.0</td>\n",
              "      <td>16024.0</td>\n",
              "      <td>4012009.0</td>\n",
              "    </tr>\n",
              "    <tr>\n",
              "      <th>1</th>\n",
              "      <td>1.0</td>\n",
              "      <td>6.0</td>\n",
              "      <td>1262.0</td>\n",
              "      <td>6.0</td>\n",
              "      <td>1976.0</td>\n",
              "      <td>36.0</td>\n",
              "      <td>7572.0</td>\n",
              "      <td>36.0</td>\n",
              "      <td>11856.0</td>\n",
              "      <td>1592644.0</td>\n",
              "      <td>7572.0</td>\n",
              "      <td>2493712.0</td>\n",
              "      <td>36.0</td>\n",
              "      <td>11856.0</td>\n",
              "      <td>3904576.0</td>\n",
              "    </tr>\n",
              "    <tr>\n",
              "      <th>2</th>\n",
              "      <td>1.0</td>\n",
              "      <td>7.0</td>\n",
              "      <td>920.0</td>\n",
              "      <td>6.0</td>\n",
              "      <td>2001.0</td>\n",
              "      <td>49.0</td>\n",
              "      <td>6440.0</td>\n",
              "      <td>42.0</td>\n",
              "      <td>14007.0</td>\n",
              "      <td>846400.0</td>\n",
              "      <td>5520.0</td>\n",
              "      <td>1840920.0</td>\n",
              "      <td>36.0</td>\n",
              "      <td>12006.0</td>\n",
              "      <td>4004001.0</td>\n",
              "    </tr>\n",
              "    <tr>\n",
              "      <th>3</th>\n",
              "      <td>1.0</td>\n",
              "      <td>7.0</td>\n",
              "      <td>961.0</td>\n",
              "      <td>7.0</td>\n",
              "      <td>1915.0</td>\n",
              "      <td>49.0</td>\n",
              "      <td>6727.0</td>\n",
              "      <td>49.0</td>\n",
              "      <td>13405.0</td>\n",
              "      <td>923521.0</td>\n",
              "      <td>6727.0</td>\n",
              "      <td>1840315.0</td>\n",
              "      <td>49.0</td>\n",
              "      <td>13405.0</td>\n",
              "      <td>3667225.0</td>\n",
              "    </tr>\n",
              "    <tr>\n",
              "      <th>4</th>\n",
              "      <td>1.0</td>\n",
              "      <td>8.0</td>\n",
              "      <td>1145.0</td>\n",
              "      <td>9.0</td>\n",
              "      <td>2000.0</td>\n",
              "      <td>64.0</td>\n",
              "      <td>9160.0</td>\n",
              "      <td>72.0</td>\n",
              "      <td>16000.0</td>\n",
              "      <td>1311025.0</td>\n",
              "      <td>10305.0</td>\n",
              "      <td>2290000.0</td>\n",
              "      <td>81.0</td>\n",
              "      <td>18000.0</td>\n",
              "      <td>4000000.0</td>\n",
              "    </tr>\n",
              "  </tbody>\n",
              "</table>\n",
              "</div>"
            ],
            "text/plain": [
              "     1   x0      x1   x2      x3  ...    x1 x2      x1 x3  x2^2    x2 x3       x3^2\n",
              "0  1.0  7.0   856.0  8.0  2003.0  ...   6848.0  1714568.0  64.0  16024.0  4012009.0\n",
              "1  1.0  6.0  1262.0  6.0  1976.0  ...   7572.0  2493712.0  36.0  11856.0  3904576.0\n",
              "2  1.0  7.0   920.0  6.0  2001.0  ...   5520.0  1840920.0  36.0  12006.0  4004001.0\n",
              "3  1.0  7.0   961.0  7.0  1915.0  ...   6727.0  1840315.0  49.0  13405.0  3667225.0\n",
              "4  1.0  8.0  1145.0  9.0  2000.0  ...  10305.0  2290000.0  81.0  18000.0  4000000.0\n",
              "\n",
              "[5 rows x 15 columns]"
            ]
          },
          "metadata": {
            "tags": []
          },
          "execution_count": 73
        }
      ]
    },
    {
      "cell_type": "code",
      "metadata": {
        "id": "ekMWxb2taehK"
      },
      "source": [
        "#Analyzing why just variables 1 - 4 were taken\n",
        "originalData = dataset.iloc[:, [1,2,3,4]]\n",
        "newVariables =  dataset.iloc[:, [5,6,7,8,9,10,11,12,13,14]]\n",
        "\n"
      ],
      "execution_count": 77,
      "outputs": []
    },
    {
      "cell_type": "code",
      "metadata": {
        "colab": {
          "base_uri": "https://localhost:8080/",
          "height": 294
        },
        "id": "gx-mjzSYazVR",
        "outputId": "30e48057-f936-45de-ebe4-4dc79a031091"
      },
      "source": [
        "newVariables.hist()\n",
        "plt.show()"
      ],
      "execution_count": 78,
      "outputs": [
        {
          "output_type": "display_data",
          "data": {
            "image/png": "[encoded data removed]",
            "text/plain": [
              "<Figure size 432x288 with 12 Axes>"
            ]
          },
          "metadata": {
            "tags": [],
            "needs_background": "light"
          }
        }
      ]
    }
  ]
}