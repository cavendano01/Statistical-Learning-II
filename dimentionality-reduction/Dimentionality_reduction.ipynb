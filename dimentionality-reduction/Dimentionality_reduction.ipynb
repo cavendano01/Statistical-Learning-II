{
  "nbformat": 4,
  "nbformat_minor": 0,
  "metadata": {
    "colab": {
      "name": "Dimentionality-reduction.ipynb",
      "provenance": [],
      "authorship_tag": "ABX9TyMOtgN6RXkw3AXgNBaJJ47K",
      "include_colab_link": true
    },
    "kernelspec": {
      "name": "python3",
      "display_name": "Python 3"
    },
    "language_info": {
      "name": "python"
    }
  },
  "cells": [
    {
      "cell_type": "markdown",
      "metadata": {
        "id": "view-in-github",
        "colab_type": "text"
      },
      "source": [
        "<a href=\"https://colab.research.google.com/github/cavendano01/Statistical-Learning-II/blob/main/dimentionality-reduction/Dimentionality_reduction.ipynb\" target=\"_parent\"><img src=\"https://colab.research.google.com/assets/colab-badge.svg\" alt=\"Open In Colab\"/></a>"
      ]
    },
    {
      "cell_type": "code",
      "metadata": {
        "id": "7ePgN9Se-iHZ"
      },
      "source": [
        "import numpy as np\n",
        "import pandas as pd\n",
        "import matplotlib.pyplot as plt\n",
        "from sklearn.preprocessing import PolynomialFeatures"
      ],
      "execution_count": null,
      "outputs": []
    },
    {
      "cell_type": "code",
      "metadata": {
        "colab": {
          "base_uri": "https://localhost:8080/"
        },
        "id": "DCNpacZPAzjv",
        "outputId": "640473fc-82f7-4a5f-e3e8-6aa34498d00e"
      },
      "source": [
        "#Data Loading\n",
        "from google.colab import drive\n",
        "drive.mount('/content/drive/')"
      ],
      "execution_count": null,
      "outputs": [
        {
          "output_type": "stream",
          "text": [
            "Mounted at /content/drive/\n"
          ],
          "name": "stdout"
        }
      ]
    },
    {
      "cell_type": "code",
      "metadata": {
        "id": "PDPFRXYGA16I"
      },
      "source": [
        "#Loading np array to access data\n",
        "data = np.load('/content/drive/MyDrive/Statistical-Learning-II/practica-3/proyecto_training_data.npy')\n",
        "#Using pandas dataframe structure to compare\n",
        "df = pd.DataFrame(data,columns=['SalePrice','OverallQual','firstFlrSF','TotRmsAbvGrd','YearBuilt','LotFrontage'])\n",
        "columns=['SalePrice','OverallQual','firstFlrSF','TotRmsAbvGrd','YearBuilt','LotFrontage']"
      ],
      "execution_count": 19,
      "outputs": []
    },
    {
      "cell_type": "code",
      "metadata": {
        "colab": {
          "base_uri": "https://localhost:8080/"
        },
        "id": "V7Meeh4jB5YA",
        "outputId": "8d8a9ce6-5916-41fe-c838-10f643f0e80a"
      },
      "source": [
        "df.isna().sum()\n"
      ],
      "execution_count": 20,
      "outputs": [
        {
          "output_type": "execute_result",
          "data": {
            "text/plain": [
              "SalePrice         0\n",
              "OverallQual       0\n",
              "firstFlrSF        0\n",
              "TotRmsAbvGrd      0\n",
              "YearBuilt         0\n",
              "LotFrontage     259\n",
              "dtype: int64"
            ]
          },
          "metadata": {
            "tags": []
          },
          "execution_count": 20
        }
      ]
    },
    {
      "cell_type": "code",
      "metadata": {
        "colab": {
          "base_uri": "https://localhost:8080/",
          "height": 281
        },
        "id": "l-Bk2IbKTTHa",
        "outputId": "367f6b48-2e25-4cc2-baf3-175e0ddfe15a"
      },
      "source": [
        "# histograms of the variables\n",
        "df.hist()\n",
        "plt.show()"
      ],
      "execution_count": 23,
      "outputs": [
        {
          "output_type": "display_data",
          "data": {
            "image/png": "[encoded data removed]",
            "text/plain": [
              "<Figure size 432x288 with 6 Axes>"
            ]
          },
          "metadata": {
            "tags": [],
            "needs_background": "light"
          }
        }
      ]
    },
    {
      "cell_type": "code",
      "metadata": {
        "colab": {
          "base_uri": "https://localhost:8080/"
        },
        "id": "BvCq0k5DSYvP",
        "outputId": "32d4b585-3e79-4d3d-f443-c0a9f5abe6cb"
      },
      "source": [
        "df['LotFrontage'].fillna((df['LotFrontage'].mean()), inplace=True)\n",
        "df.isna().sum()\n"
      ],
      "execution_count": 24,
      "outputs": [
        {
          "output_type": "execute_result",
          "data": {
            "text/plain": [
              "SalePrice       0\n",
              "OverallQual     0\n",
              "firstFlrSF      0\n",
              "TotRmsAbvGrd    0\n",
              "YearBuilt       0\n",
              "LotFrontage     0\n",
              "dtype: int64"
            ]
          },
          "metadata": {
            "tags": []
          },
          "execution_count": 24
        }
      ]
    },
    {
      "cell_type": "code",
      "metadata": {
        "colab": {
          "base_uri": "https://localhost:8080/"
        },
        "id": "0WYIOeewCMUk",
        "outputId": "7d917bfc-3b02-4d92-836e-8fca0e2c5e01"
      },
      "source": [
        "trans = PolynomialFeatures(degree=2)\n",
        "polyData = trans.fit_transform(df)\n",
        "print(polyData)"
      ],
      "execution_count": 25,
      "outputs": [
        {
          "output_type": "stream",
          "text": [
            "[[1.000000e+00 2.085000e+05 7.000000e+00 ... 4.012009e+06 1.301950e+05\n",
            "  4.225000e+03]\n",
            " [1.000000e+00 1.815000e+05 6.000000e+00 ... 3.904576e+06 1.580800e+05\n",
            "  6.400000e+03]\n",
            " [1.000000e+00 2.235000e+05 7.000000e+00 ... 4.004001e+06 1.360680e+05\n",
            "  4.624000e+03]\n",
            " ...\n",
            " [1.000000e+00 2.665000e+05 7.000000e+00 ... 3.767481e+06 1.281060e+05\n",
            "  4.356000e+03]\n",
            " [1.000000e+00 1.421250e+05 5.000000e+00 ... 3.802500e+06 1.326000e+05\n",
            "  4.624000e+03]\n",
            " [1.000000e+00 1.475000e+05 5.000000e+00 ... 3.861225e+06 1.473750e+05\n",
            "  5.625000e+03]]\n"
          ],
          "name": "stdout"
        }
      ]
    }
  ]
}