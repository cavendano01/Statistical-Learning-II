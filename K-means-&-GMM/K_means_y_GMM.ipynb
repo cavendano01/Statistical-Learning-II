{
  "nbformat": 4,
  "nbformat_minor": 0,
  "metadata": {
    "colab": {
      "name": "K-means-y-GMM.ipynb",
      "provenance": [],
      "authorship_tag": "ABX9TyPEgVx1bVi/519W5fQO7G2y",
      "include_colab_link": true
    },
    "kernelspec": {
      "name": "python3",
      "display_name": "Python 3"
    },
    "language_info": {
      "name": "python"
    }
  },
  "cells": [
    {
      "cell_type": "markdown",
      "metadata": {
        "id": "view-in-github",
        "colab_type": "text"
      },
      "source": [
        "<a href=\"https://colab.research.google.com/github/cavendano01/Statistical-Learning-II/blob/main/K-means-%26-GMM/K_means_y_GMM.ipynb\" target=\"_parent\"><img src=\"https://colab.research.google.com/assets/colab-badge.svg\" alt=\"Open In Colab\"/></a>"
      ]
    },
    {
      "cell_type": "code",
      "metadata": {
        "colab": {
          "base_uri": "https://localhost:8080/"
        },
        "id": "-wX3--Rw4Qy6",
        "outputId": "b8d7bee6-2961-4e97-cb55-d67f43331763"
      },
      "source": [
        "import pandas as pd # Data Manipulation\n",
        "import numpy as np # Data computation\n",
        "import matplotlib.pyplot as plt #Data visualization\n",
        "import seaborn as sns; sns.set()\n",
        "from sklearn import mixture #GMM\n",
        "from sklearn.cluster import KMeans # Testing Sklearn\n",
        "print (\"Packages Loaded\")"
      ],
      "execution_count": 6,
      "outputs": [
        {
          "output_type": "stream",
          "text": [
            "Packages Loaded\n"
          ],
          "name": "stdout"
        }
      ]
    },
    {
      "cell_type": "code",
      "metadata": {
        "colab": {
          "base_uri": "https://localhost:8080/"
        },
        "id": "0vyzg6lY4pM_",
        "outputId": "a8b94bd4-13a6-4343-c2b6-d0d8953d543b"
      },
      "source": [
        "#Data Loading\n",
        "from google.colab import drive\n",
        "drive.mount('/content/drive/')"
      ],
      "execution_count": 2,
      "outputs": [
        {
          "output_type": "stream",
          "text": [
            "Mounted at /content/drive/\n"
          ],
          "name": "stdout"
        }
      ]
    },
    {
      "cell_type": "code",
      "metadata": {
        "colab": {
          "base_uri": "https://localhost:8080/",
          "height": 206
        },
        "id": "Vf_55ljj4yO-",
        "outputId": "4ee711b3-c01c-431b-d4c1-07810f79cebf"
      },
      "source": [
        "#Creating Heights Dataset \n",
        "heights =pd.read_excel(\"/content/drive/MyDrive/Statistical-Learning-II/practica-1/estaturas.xlsx\")\n",
        "heights.head(5)"
      ],
      "execution_count": 3,
      "outputs": [
        {
          "output_type": "execute_result",
          "data": {
            "text/html": [
              "<div>\n",
              "<style scoped>\n",
              "    .dataframe tbody tr th:only-of-type {\n",
              "        vertical-align: middle;\n",
              "    }\n",
              "\n",
              "    .dataframe tbody tr th {\n",
              "        vertical-align: top;\n",
              "    }\n",
              "\n",
              "    .dataframe thead th {\n",
              "        text-align: right;\n",
              "    }\n",
              "</style>\n",
              "<table border=\"1\" class=\"dataframe\">\n",
              "  <thead>\n",
              "    <tr style=\"text-align: right;\">\n",
              "      <th></th>\n",
              "      <th>Estatura(metros)</th>\n",
              "      <th>Edad(años)</th>\n",
              "    </tr>\n",
              "  </thead>\n",
              "  <tbody>\n",
              "    <tr>\n",
              "      <th>0</th>\n",
              "      <td>1.77</td>\n",
              "      <td>26</td>\n",
              "    </tr>\n",
              "    <tr>\n",
              "      <th>1</th>\n",
              "      <td>1.74</td>\n",
              "      <td>31</td>\n",
              "    </tr>\n",
              "    <tr>\n",
              "      <th>2</th>\n",
              "      <td>1.72</td>\n",
              "      <td>24</td>\n",
              "    </tr>\n",
              "    <tr>\n",
              "      <th>3</th>\n",
              "      <td>1.78</td>\n",
              "      <td>34</td>\n",
              "    </tr>\n",
              "    <tr>\n",
              "      <th>4</th>\n",
              "      <td>1.65</td>\n",
              "      <td>32</td>\n",
              "    </tr>\n",
              "  </tbody>\n",
              "</table>\n",
              "</div>"
            ],
            "text/plain": [
              "   Estatura(metros)  Edad(años)\n",
              "0              1.77          26\n",
              "1              1.74          31\n",
              "2              1.72          24\n",
              "3              1.78          34\n",
              "4              1.65          32"
            ]
          },
          "metadata": {
            "tags": []
          },
          "execution_count": 3
        }
      ]
    },
    {
      "cell_type": "code",
      "metadata": {
        "colab": {
          "base_uri": "https://localhost:8080/",
          "height": 314
        },
        "id": "oQBPEuxI4zVK",
        "outputId": "27c22a6c-c75a-4cdf-f5d4-609491f4287d"
      },
      "source": [
        "height =heights.iloc[:, 0]\n",
        "age = heights.iloc[:, 1]\n",
        "plt.scatter(height,age )\n",
        "plt.suptitle('PADP-U Height & Age')\n",
        "plt.xlabel('height')\n",
        "plt.ylabel('age')\n",
        "plt.show()"
      ],
      "execution_count": 4,
      "outputs": [
        {
          "output_type": "display_data",
          "data": {
            "image/png": "[encoded data removed]",
            "text/plain": [
              "<Figure size 432x288 with 1 Axes>"
            ]
          },
          "metadata": {
            "tags": [],
            "needs_background": "light"
          }
        }
      ]
    },
    {
      "cell_type": "code",
      "metadata": {
        "id": "WsbnAJG-44Ip"
      },
      "source": [
        "X = heights.values"
      ],
      "execution_count": 5,
      "outputs": []
    },
    {
      "cell_type": "markdown",
      "metadata": {
        "id": "5_iWd23xm_Lx"
      },
      "source": [
        "# K-means"
      ]
    },
    {
      "cell_type": "markdown",
      "metadata": {
        "id": "tpbOt7FTnCBv"
      },
      "source": [
        "## Sklearn approach"
      ]
    },
    {
      "cell_type": "code",
      "metadata": {
        "colab": {
          "base_uri": "https://localhost:8080/",
          "height": 268
        },
        "id": "3xEdce-2l5_Z",
        "outputId": "10bd5746-85a9-4409-f708-89844297a3f5"
      },
      "source": [
        "# Plot the data with K Means Labels\n",
        "kmeans = KMeans(4, random_state=20)\n",
        "labels = kmeans.fit(X).predict(X)\n",
        "plt.scatter(X[:, 0], X[:, 1], c=labels, s=40, cmap='viridis');"
      ],
      "execution_count": 8,
      "outputs": [
        {
          "output_type": "display_data",
          "data": {
            "image/png": "[encoded data removed]",
            "text/plain": [
              "<Figure size 432x288 with 1 Axes>"
            ]
          },
          "metadata": {
            "tags": []
          }
        }
      ]
    },
    {
      "cell_type": "markdown",
      "metadata": {
        "id": "IPxOLcUTnFbv"
      },
      "source": [
        "## From Scratch\n",
        "Creating a Class that contains functions for:\n",
        "* Hard Clustering with sklearn\n",
        "* Experiment logs "
      ]
    },
    {
      "cell_type": "code",
      "metadata": {
        "id": "o1JGR74p5muM"
      },
      "source": [
        "class K_Means:\n",
        "    def __init__(self, k=2, tol=0.001, max_iter=300):\n",
        "        self.k = k\n",
        "        self.tol = tol\n",
        "        self.max_iter = max_iter\n",
        "\n",
        "    def fit(self,data):\n",
        "\n",
        "        self.centroids = {}\n",
        "\n",
        "        for i in range(self.k):\n",
        "            self.centroids[i] = data[i]\n",
        "\n",
        "        for i in range(self.max_iter):\n",
        "            self.classifications = {}\n",
        "\n",
        "            for i in range(self.k):\n",
        "                self.classifications[i] = []\n",
        "\n",
        "            for featureset in data:\n",
        "                distances = [np.linalg.norm(featureset-self.centroids[centroid]) for centroid in self.centroids]\n",
        "                classification = distances.index(min(distances))\n",
        "                self.classifications[classification].append(featureset)\n",
        "\n",
        "            prev_centroids = dict(self.centroids)\n",
        "\n",
        "            for classification in self.classifications:\n",
        "                self.centroids[classification] = np.average(self.classifications[classification],axis=0)\n",
        "\n",
        "            optimized = True\n",
        "\n",
        "            for c in self.centroids:\n",
        "                original_centroid = prev_centroids[c]\n",
        "                current_centroid = self.centroids[c]\n",
        "                if np.sum((current_centroid-original_centroid)/original_centroid*100.0) > self.tol:\n",
        "                    print(np.sum((current_centroid-original_centroid)/original_centroid*100.0))\n",
        "                    optimized = False\n",
        "\n",
        "            if optimized:\n",
        "                break\n",
        "\n",
        "    def predict(self,data):\n",
        "        distances = [np.linalg.norm(data-self.centroids[centroid]) for centroid in self.centroids]\n",
        "        classification = distances.index(min(distances))\n",
        "        return classification"
      ],
      "execution_count": 9,
      "outputs": []
    },
    {
      "cell_type": "code",
      "metadata": {
        "colab": {
          "base_uri": "https://localhost:8080/",
          "height": 352
        },
        "id": "sEP-Ns2M5oAU",
        "outputId": "169a2098-c52b-4322-a266-d89b9769f8b4"
      },
      "source": [
        "model = K_Means()\n",
        "model.fit(X)\n",
        "\n",
        "for centroid in model.centroids:\n",
        "    plt.scatter(model.centroids[centroid][0], model.centroids[centroid][1],\n",
        "                marker=\"o\", color=\"k\", s=150, linewidths=5)\n",
        "\n",
        "for classification in model.classifications:\n",
        "    #color = colors[classification]\n",
        "    for featureset in model.classifications[classification]:\n",
        "        plt.scatter(featureset[0], featureset[1], marker=\"x\",  s=150, linewidths=5)\n",
        "        \n",
        "plt.show()"
      ],
      "execution_count": 12,
      "outputs": [
        {
          "output_type": "stream",
          "text": [
            "13.844817828776607\n",
            "0.9241154104478423\n",
            "4.428606906205217\n",
            "1.1439829696046977\n",
            "2.7206563888945663\n"
          ],
          "name": "stdout"
        },
        {
          "output_type": "display_data",
          "data": {
            "image/png": "[encoded data removed]",
            "text/plain": [
              "<Figure size 432x288 with 1 Axes>"
            ]
          },
          "metadata": {
            "tags": [],
            "needs_background": "light"
          }
        }
      ]
    },
    {
      "cell_type": "markdown",
      "metadata": {
        "id": "-4x1OtEnmbh1"
      },
      "source": [
        "# GMM"
      ]
    },
    {
      "cell_type": "code",
      "metadata": {
        "colab": {
          "base_uri": "https://localhost:8080/",
          "height": 268
        },
        "id": "3ThR74hymgyQ",
        "outputId": "377466b7-8d8d-4831-9544-bf093ac649e7"
      },
      "source": [
        "gmm = mixture.GaussianMixture(n_components=4).fit(X)\n",
        "labels = gmm.predict(X)\n",
        "plt.scatter(X[:, 0], X[:, 1], c=labels, s=40, cmap='viridis');"
      ],
      "execution_count": 11,
      "outputs": [
        {
          "output_type": "display_data",
          "data": {
            "image/png": "[encoded data removed]",
            "text/plain": [
              "<Figure size 432x288 with 1 Axes>"
            ]
          },
          "metadata": {
            "tags": []
          }
        }
      ]
    },
    {
      "cell_type": "code",
      "metadata": {
        "colab": {
          "base_uri": "https://localhost:8080/"
        },
        "id": "qroQO6VK7wOF",
        "outputId": "1396436e-eb6c-476b-9283-cb4269355b5a"
      },
      "source": [
        "#Means de los centroides \n",
        "print('means')\n",
        "print(gmm.means_)\n",
        "#print(gmm.covariances_)\n",
        "print('std')\n",
        "print(np.sqrt(gmm.covariances_))"
      ],
      "execution_count": 13,
      "outputs": [
        {
          "output_type": "stream",
          "text": [
            "means\n",
            "[[ 1.70797373 26.39077418]\n",
            " [ 1.77666743 48.33324173]\n",
            " [ 1.72966228 33.28706989]\n",
            " [ 1.7775112  23.5637487 ]]\n",
            "std\n",
            "[[[0.07822381        nan]\n",
            "  [       nan 1.62356671]]\n",
            "\n",
            " [[0.089943   0.56959416]\n",
            "  [0.56959416 4.1097108 ]]\n",
            "\n",
            " [[0.05959421 0.32934493]\n",
            "  [0.32934493 3.01358905]]\n",
            "\n",
            " [[0.05289564 0.21083731]\n",
            "  [0.21083731 1.39124602]]]\n"
          ],
          "name": "stdout"
        },
        {
          "output_type": "stream",
          "text": [
            "/usr/local/lib/python3.7/dist-packages/ipykernel_launcher.py:6: RuntimeWarning: invalid value encountered in sqrt\n",
            "  \n"
          ],
          "name": "stderr"
        }
      ]
    },
    {
      "cell_type": "markdown",
      "metadata": {
        "id": "i0AvL-ounkz1"
      },
      "source": [
        "# Model optimization (5 iterations) & Prediction "
      ]
    },
    {
      "cell_type": "markdown",
      "metadata": {
        "id": "1N6QElwdngQr"
      },
      "source": [
        "## GMM Predictions with Selected Model"
      ]
    },
    {
      "cell_type": "code",
      "metadata": {
        "id": "chorT8Xfnesz"
      },
      "source": [
        ""
      ],
      "execution_count": null,
      "outputs": []
    }
  ]
}